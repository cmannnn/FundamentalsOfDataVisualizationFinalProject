{
 "cells": [
  {
   "cell_type": "markdown",
   "id": "d7ad69f3",
   "metadata": {},
   "source": [
    "# Fundamentals of Data Visualization - Final Project"
   ]
  },
  {
   "cell_type": "markdown",
   "id": "00ca057b",
   "metadata": {},
   "source": [
    "### Intro\n",
    " \n",
    "For my final project, I will be analyzing and visualizing data that I myself have generated throughout 2023. The dataset is training data I have recorded using the popular fitness tracking app Strava. For people who aren't familiar, Strava is an app many athletes use to track activities using GPS. There are also social network components of the app, however, the social network component stastics will not be be included in this anaylsis. \n",
    "\n",
    "The app tracks metrics such as the activity type, elapsed time, distance, average speed, elevation gain and even weather statistics for the day and place you are exercising. The app allows you to download your historical data which is exactly how I obtained this dataset.\n",
    "\n",
    "\n",
    "### Goals\n",
    "\n",
    "The dataset I chose was data that I have accumulated over the last years worth of  Strava data (2022-09-01 to 2023-09-01). Each row of the data is a newly recorded workout with an assigned primary “Activity ID” key. My goal for working with this data is to see if I have become faster throughout my years worth of training. My initial idea is to look at total time and distance to determine if my average pace was faster (when controlling for additional factors).\n",
    "\n",
    "For the sake of this analysis, I will visualize other sports I used as cross-training, but limit the question to my ability to run faster. The large majority of my workouts were running. \n",
    "\n",
    "\n",
    "### Tasks\n",
    "$\\textbf{Download the data from my Strava profile}$\n",
    "\n",
    "$\\textbf{Read in the dataset}$\n",
    "\n",
    "$\\textbf{Clean the dataset}$\n",
    "\n",
    "$\\textbf{Exploratory data analysis}$\n",
    "\n",
    "$\\textbf{Uncover trends in the data}$\n",
    "\n",
    "$\\textbf{Why is a task pursued? (goal)}$\n",
    "\n",
    "The goal of this task is to determine whether or not there are any particular trends in my training data.\n",
    "\n",
    "$\\textbf{How is a task conducted? (means)}$\n",
    "\n",
    "I will use the pandas package to manipulate my data and attempt to use Alteria to visualize my findings.\n",
    "\n",
    "$\\textbf{What does a task seek to learn about the data? (characteristics)}$\n",
    "\n",
    "I will look across all variables in the data to see if there are any seasonal, elevation, or activity trends throughout the data.\n",
    "\n",
    "$\\textbf{Where does the task operate? (target data)}$\n",
    "\n",
    "This task will operate in a local Jupyter notebook.\n",
    "\n",
    "$\\textbf{When is the task performed? (workflow)}$\n",
    "\n",
    "The task will be performed over the next few weeks.\n",
    "\n",
    "$\\textbf{Who is executing the task? (roles)}$\n",
    "\n",
    "I will be the only one working on this task.\n",
    "\n",
    "$\\textbf{Am I getting faster?}$\n",
    "\n",
    "$\\textbf{Why is a task pursued? (goal)}$\n",
    "\n",
    "The goal of this task is to determine whether or not I am becoming a better athlete (measured by running faster)\n",
    "\n",
    "$\\textbf{How is a task conducted? (means)}$\n",
    "\n",
    "I will use the pandas package to manipulate my data and attempt to use Alteria to visualize my findings.\n",
    "\n",
    "$\\textbf{What does a task seek to learn about the data? (characteristics)}$\n",
    "\n",
    "I will look at the average weighted pace of runs throughout the data to see if I am improving in running faster.\n",
    "\n",
    "$\\textbf{Where does the task operate? (target data)}$\n",
    "\n",
    "This task will operate in a local Jupyter notebook.\n",
    "\n",
    "$\\textbf{When is the task performed? (workflow)}$\n",
    "\n",
    "The task will be performed over the next few weeks.\n",
    "\n",
    "$\\textbf{Who is executing the task? (roles)}$\n",
    "\n",
    "I will be the only one working on this task.\n",
    "\n",
    "$\\textbf{Reflect}$\n"
   ]
  },
  {
   "cell_type": "markdown",
   "id": "5c1b77b2",
   "metadata": {},
   "source": [
    "### Data Callouts\n",
    "\n",
    "- $\\textit{Distance}$: Distance in kilometers\n",
    "- $\\textit{Moving Time}$: Time in minutes\n",
    "- $\\textit{Elevation Gain}$: Elevation in meters\n",
    "- $\\textit{Average Speed}$: Average speed in km/hr\n",
    "\n",
    "The remaining columns should be self explanatory."
   ]
  },
  {
   "cell_type": "markdown",
   "id": "49b90f58",
   "metadata": {},
   "source": [
    "### Imports"
   ]
  },
  {
   "cell_type": "code",
   "execution_count": null,
   "id": "800d9b4f",
   "metadata": {},
   "outputs": [],
   "source": [
    "import pandas as pd\n",
    "import altair as alt\n",
    "import numpy as np\n",
    "\n",
    "data = pd.read_csv(\"activities.csv\")"
   ]
  },
  {
   "cell_type": "markdown",
   "id": "e9b06045",
   "metadata": {},
   "source": [
    "### Data Cleaning"
   ]
  },
  {
   "cell_type": "code",
   "execution_count": null,
   "id": "e09662a0",
   "metadata": {},
   "outputs": [],
   "source": [
    "# removing many unecessary columns that are not in the scope of this analysis\n",
    "data.drop(columns = ['Activity Name', 'Activity Description', 'Commute', 'Activity Private Note', 'Activity Gear',\n",
    "       'Filename', 'Athlete Weight', 'Bike Weight', 'Max Cadence', 'Average Cadence',  '<span class=\"translation_missing\" title=\"translation missing: en-US.lib.export.portability_exporter.activities.horton_values.type\">Type</span>',\n",
    "       '<span class=\"translation_missing\" title=\"translation missing: en-US.lib.export.portability_exporter.activities.horton_values.start_time\">Start Time</span>',\n",
    "       'Weighted Average Power', 'Power Count', 'Prefer Perceived Exertion',\n",
    "       'Perceived Relative Effort', 'Commute.1', 'Total Weight Lifted', 'Sunrise Time',\n",
    "       'Sunset Time', 'Moon Phase', 'Bike', 'Gear',\n",
    "       'Precipitation Probability', '<span class=\"translation_missing\" title=\"translation missing: en-US.lib.export.portability_exporter.activities.horton_values.jump_count\">Jump Count</span>',\n",
    "       '<span class=\"translation_missing\" title=\"translation missing: en-US.lib.export.portability_exporter.activities.horton_values.total_grit\">Total Grit</span>',\n",
    "       '<span class=\"translation_missing\" title=\"translation missing: en-US.lib.export.portability_exporter.activities.horton_values.avg_flow\">Avg Flow</span>',\n",
    "       '<span class=\"translation_missing\" title=\"translation missing: en-US.lib.export.portability_exporter.activities.horton_values.flagged\">Flagged</span>',\n",
    "       '<span class=\"translation_missing\" title=\"translation missing: en-US.lib.export.portability_exporter.activities.horton_values.avg_elapsed_speed\">Avg Elapsed Speed</span>',\n",
    "       '<span class=\"translation_missing\" title=\"translation missing: en-US.lib.export.portability_exporter.activities.horton_values.dirt_distance\">Dirt Distance</span>',\n",
    "       '<span class=\"translation_missing\" title=\"translation missing: en-US.lib.export.portability_exporter.activities.horton_values.newly_explored_distance\">Newly Explored Distance</span>',\n",
    "       '<span class=\"translation_missing\" title=\"translation missing: en-US.lib.export.portability_exporter.activities.horton_values.newly_explored_dirt_distance\">Newly Explored Dirt Distance</span>',\n",
    "       '<span class=\"translation_missing\" title=\"translation missing: en-US.lib.export.portability_exporter.activities.horton_values.sport_type\">Sport Type</span>',\n",
    "       '<span class=\"translation_missing\" title=\"translation missing: en-US.lib.export.portability_exporter.activities.horton_values.total_steps\">Total Steps</span>',\n",
    "       'Media', 'Max Watts', 'Average Watts', 'From Upload', 'Average Positive Grade', 'Average Negative Grade', 'Max Heart Rate.1', 'Max Temperature', 'Number of Runs', 'Total Work', 'Uphill Time', 'Downhill Time'\n",
    "                    , 'Other Time', 'Distance.1', 'Elapsed Time.1', 'Relative Effort.1'], inplace = True)\n"
   ]
  },
  {
   "cell_type": "code",
   "execution_count": null,
   "id": "7ff8058a",
   "metadata": {},
   "outputs": [],
   "source": [
    "# changing the 'Activity Date' column to a datetime\n",
    "data['Activity Date'] = pd.to_datetime(data['Activity Date'])\n",
    "\n",
    "# removing the \n",
    "data['Distance'] = data['Distance'].str.replace(',', '')\n",
    "\n",
    "# changing the 'Distance' column to a float\n",
    "data['Distance'] = data['Distance'].astype(float)\n",
    "\n",
    "# limiting the dataset to a full year\n",
    "data = data.loc[data['Activity Date'] >= '2022-09-01']\n",
    "data = data.loc[data['Activity Date'] < '2023-09-01']\n",
    "                \n",
    "# removing data errors (I have never done a stair stepper or nordic ski workout)\n",
    "data = data.loc[data['Activity Type'] != 'Stair-Stepper']\n",
    "data = data.loc[data['Activity Type'] != 'Nordic Ski']\n",
    "\n",
    "# putting the 'Moving Time' column from seconds into minutes\n",
    "data['Moving Time'] = data['Moving Time'] / 60\n",
    "\n",
    "# resetting the index so it's clean to work with\n",
    "data = data.reset_index(drop = True)\n"
   ]
  },
  {
   "cell_type": "markdown",
   "id": "0eb82898",
   "metadata": {},
   "source": [
    "### EDA"
   ]
  },
  {
   "cell_type": "code",
   "execution_count": null,
   "id": "a912549f",
   "metadata": {},
   "outputs": [],
   "source": [
    "# here we can take a high level look at the data and see some summary statistics\n",
    "data.describe()"
   ]
  },
  {
   "cell_type": "code",
   "execution_count": null,
   "id": "a916845f",
   "metadata": {},
   "outputs": [],
   "source": [
    "print(f'The total distance I logged was: {round(sum(data[\"Distance\"]), 2)} kilometers')"
   ]
  },
  {
   "cell_type": "code",
   "execution_count": null,
   "id": "c0db7589",
   "metadata": {},
   "outputs": [],
   "source": [
    "print(f'The total time I logged was: {round(((sum(data[\"Elapsed Time\"]) / 60) / 60) / 24, 2)} days worth of training')"
   ]
  },
  {
   "cell_type": "code",
   "execution_count": null,
   "id": "26f61adc",
   "metadata": {},
   "outputs": [],
   "source": [
    "print(f'The activity with the largest elevation gain was: {round(max(data[\"Elevation Gain\"]), 2)} meters')"
   ]
  },
  {
   "cell_type": "markdown",
   "id": "81d7f200",
   "metadata": {},
   "source": [
    "### Task 1: Visualizations"
   ]
  },
  {
   "cell_type": "code",
   "execution_count": null,
   "id": "02134465",
   "metadata": {},
   "outputs": [],
   "source": [
    "# woah that's a lot of kilometers\n",
    "chart1 = alt.Chart(data).mark_bar(tooltip = True).encode(\n",
    "    x = 'Activity Type',\n",
    "    y = 'count(Activity ID)',\n",
    "    color = alt.condition(\n",
    "        alt.datum['Activity Type'] == 'Run', alt.value('red'), alt.value('navy'))\n",
    ")\n",
    "\n",
    "chart2 = alt.Chart(data).mark_bar(tooltip = True).encode(\n",
    "    x = \"Activity Type\", \n",
    "    y = \"sum(Distance):Q\",\n",
    "        color = alt.condition(\n",
    "        alt.datum['Activity Type'] == 'Run', alt.value('red'), alt.value('navy'))\n",
    ")\n",
    "\n",
    "chart3 = alt.Chart(data).mark_bar(tooltip = True).encode(\n",
    "    x = \"Activity Type\",\n",
    "    y = \"average(Distance):Q\",\n",
    "        color = alt.condition(\n",
    "        alt.datum['Activity Type'] == 'Run', alt.value('red'), alt.value('navy'))\n",
    ")\n",
    "\n",
    "chart1.properties(title = \"Count by Activity\", width = 200, height = 250) | chart2.properties(title = \"Activity by Total Kilometers\", width = 200, height = 250) | chart3.properties(title = \"Activity by Average Kilometers\", width = 200, height = 250)\n",
    "\n"
   ]
  },
  {
   "cell_type": "markdown",
   "id": "0b44743c",
   "metadata": {},
   "source": [
    "These first graphs show each activity side by side with the activity count, total kilometers, and the average activity kilometers. The run category is highlighted as that will be the focus of the analysis later on.\n",
    "\n",
    "You can see I run more than every other sport combined (more than 75% of activities), however, when I run I don't go as far on average compared to when I bike. This makes sense as you can generally cover more kilometers on a bike than you can running. I also run year round, whereas biking and backcountry skiing I can only do seasonally."
   ]
  },
  {
   "cell_type": "code",
   "execution_count": null,
   "id": "ff6bc71b",
   "metadata": {},
   "outputs": [],
   "source": [
    "input_dropdown = alt.binding_select(options = ['Alpine Ski', 'Backcountry Ski', 'Hike', 'Ride', 'Run', 'Virtual Ride'], name = 'Activity Type: ')\n",
    "selection = alt.selection_point(fields = ['Activity Type'], bind = input_dropdown)\n",
    "color = alt.condition(selection,\n",
    "                     alt.Color('Activity Type:N', scale = alt.Scale(scheme = 'dark2')).legend(None),\n",
    "                    alt.value('lightgray')\n",
    "                     )\n",
    "\n",
    "\n",
    "chart4 = alt.Chart(data).mark_circle().encode(\n",
    "    x = 'Average Speed:Q',\n",
    "    y = 'Distance:Q',\n",
    "    color = color,\n",
    "    tooltip = ['Activity Type', 'Distance', 'Average Speed']).add_params(selection)\n",
    "\n",
    "chart5 = alt.Chart(data).mark_circle().encode(\n",
    "    x = 'Average Speed:Q',\n",
    "    y = 'Elevation Gain',\n",
    "    color = color,\n",
    "    tooltip = ['Activity Type', 'Elevation Gain', 'Average Speed']).add_params(selection)\n",
    "\n",
    "chart4.properties(title = 'Distance on Speed') | chart5.properties(title = 'Elevation on Speed')\n"
   ]
  },
  {
   "cell_type": "markdown",
   "id": "37723dcd",
   "metadata": {},
   "source": [
    "The visualization on the left begins to show the relationship between speed on distance. Overall, if I am traveling faster I am generally going further. There is also a slight negative relationship between elevation and speed. Generally, if I am climbing a lot during a workout I am going slower on average. \n",
    "\n",
    "What's interesting in this visualization is using the selector to highlight a different activity type. For example, if you select 'Backcountry Ski' (pink dots) you can see I am pretty much going the same distance, speed, and elevation each time. Comparing that graph to when the activity type is 'Ride' my data is much more variable with more outliers. Some days I am going very far and climbing a lot on the bike!"
   ]
  },
  {
   "cell_type": "code",
   "execution_count": null,
   "id": "74930579",
   "metadata": {},
   "outputs": [],
   "source": [
    "chart6 = alt.Chart(data).mark_line().encode(\n",
    "    x = 'Activity Date',\n",
    "    y = 'Average Speed:Q',\n",
    "    color = 'Activity Type',\n",
    "    tooltip = ['Activity Type', 'Activity Date', 'Average Speed']).properties(title = 'Date on Average Speed', width = 600, height = 250).interactive()\n",
    "chart6"
   ]
  },
  {
   "cell_type": "markdown",
   "id": "512c4b91",
   "metadata": {},
   "source": [
    "Now we can start looking at time series data. Here we can see each activities speed trends across the year. I tend to have the highest average speed when doing a virtual ride indoors. The green line representing my running is highly variable. You can see some workouts I average close to 4 km/hr where in others I am barely at 2 km/hr. This makes sense as depending on the day I might do a faster workout vs a slow easy workout."
   ]
  },
  {
   "cell_type": "markdown",
   "id": "5aac4c04",
   "metadata": {},
   "source": [
    "### Task 1 Conclusion\n",
    "\n",
    "From the above section of graphs there are a few conclusions I can draw:\n",
    "\n",
    "1. I run alot compared to other activities. Running was by far my most consistant and popular activity type. \n",
    "\n",
    "2. The activity type has a huge impact on how fast I'm going on average. Elevation has less of an impact.\n",
    "\n",
    "3. It is hard to conclude that I am getting faster at running from the above graphs. I will look into this further below!"
   ]
  },
  {
   "cell_type": "markdown",
   "id": "31b50446",
   "metadata": {},
   "source": [
    "### Task 2: Am I getting faster?"
   ]
  },
  {
   "cell_type": "markdown",
   "id": "f0dc4108",
   "metadata": {},
   "source": [
    "For this second task, I am going to attempt to quantify whether or not I am getting faster. I will only be looking at running activities for this task. As you will see there are a couple of different considerations that must be made when we measure 'speed'."
   ]
  },
  {
   "cell_type": "code",
   "execution_count": null,
   "id": "1cd49295",
   "metadata": {},
   "outputs": [],
   "source": [
    "run_data = data[data['Activity Type'] == 'Run']"
   ]
  },
  {
   "cell_type": "code",
   "execution_count": null,
   "id": "06db05cb",
   "metadata": {},
   "outputs": [],
   "source": [
    "Here I am just limiting the dataset we previously visualized to just runs."
   ]
  },
  {
   "cell_type": "code",
   "execution_count": null,
   "id": "fe57613f",
   "metadata": {
    "scrolled": false
   },
   "outputs": [],
   "source": [
    "brush = alt.selection_interval(encodings = ['x'])\n",
    "\n",
    "line = alt.Chart(run_data).mark_line(\n",
    "    color = 'red',\n",
    "    size = 3\n",
    ").transform_window(\n",
    "    rolling_mean = 'mean(Average Speed)',\n",
    "    frame = [-7, 7]\n",
    ").encode(\n",
    "    x = 'Activity Date:T',\n",
    "    y = 'rolling_mean:Q'\n",
    ")\n",
    "\n",
    "line2 = alt.Chart(run_data).mark_line(\n",
    "    color = 'red',\n",
    "    size = 3\n",
    ").transform_window(\n",
    "    rolling_mean = 'mean(Elevation Gain)',\n",
    "    frame = [-7, 7]\n",
    ").encode(\n",
    "    x = 'Activity Date:T',\n",
    "    y = 'rolling_mean:Q'\n",
    ")\n",
    "\n",
    "points = alt.Chart(run_data).mark_point().encode(\n",
    "    x = 'Activity Date:T',\n",
    "    y = alt.Y('Average Speed:Q'),\n",
    "    color = alt.condition(brush, 'Activity Type', alt.value('lightgray'))\n",
    "    ).properties(title = '2 week rolling average speed', width = 400, height = 450\n",
    "    ).add_params(brush)\n",
    "\n",
    "points + line | points.encode(y = 'Elevation Gain:Q') + line2\n"
   ]
  },
  {
   "cell_type": "markdown",
   "id": "e943bb50",
   "metadata": {},
   "source": [
    "In this visualization, we can see my average speed on the left chart and elevation gain over time in the chart on the right. The red line I included on the left chart shows the 2 week rolling average of my speed whereas the red line on the right chart shows the 2 week rolling average of my elevation.\n",
    "\n",
    "There is also functionality within the graph to click and drag across the x axis to highlight a particular time. The highlight is then carried over to the other graph. Try it out yourself!\n",
    "\n",
    "In terms of the trend of the data, there are a few periods where my average speed picked up, notabaly from Feb to April and again from Jul to Aug. This was speed specific pre-season and race specific preperations respectively. Both were specific training blocks.\n",
    "\n",
    "However, comparing both graphs you will notice a pattern. As the rolling mean speed decreases, the rolling mean elevation gain increases. In other words, I am typically running slower because I am running uphill which takes a lot more strength and power. Is there a way to control for elevation in these numbers? "
   ]
  },
  {
   "cell_type": "markdown",
   "id": "1f90b53d",
   "metadata": {},
   "source": [
    "To control for the elevation gain in each of my runs, I'm going to look at a new metric called Grade Adjusted Pace (GAP). This is a function that takes in the elevation gain during a run as an input, and the outcome is the adjusted pace. There are many different formulas to use to calculate this metric (including very complex ones), however, here is a simplistic function we can use in this case. In the formula i is the elevation gain and f is the adjusted speed:\n",
    "\n",
    "$f=1+0.03*(i)+1.5e-3*(i)^{2.0}$\n",
    "\n",
    "If you are interested in learning more about GAP you can read some further information here: https://davethecanuck.github.io/runcalc/"
   ]
  },
  {
   "cell_type": "code",
   "execution_count": null,
   "id": "42fd6011",
   "metadata": {},
   "outputs": [],
   "source": [
    "avg_speed_elevation_adjusted = []\n",
    "for i in run_data['Elevation Gain']:\n",
    "    f = 1 + 0.03 * (i) + 1.5e-3 * (i) ** 2.0\n",
    "    avg_speed_elevation_adjusted.append(f)"
   ]
  },
  {
   "cell_type": "code",
   "execution_count": null,
   "id": "e192f140",
   "metadata": {},
   "outputs": [],
   "source": [
    "run_data.insert(loc = 10, column = \"Average Speed Elevation Adjusted\", value = avg_speed_elevation_adjusted)\n",
    "                                                                                                      \n",
    "                                                                                                      "
   ]
  },
  {
   "cell_type": "markdown",
   "id": "e414e760",
   "metadata": {},
   "source": [
    "We will take the 'Elevation Gain' column and use our model to create a new column, 'Average Speed Elevation Adjusted' that we will look into further."
   ]
  },
  {
   "cell_type": "code",
   "execution_count": null,
   "id": "425bc4d7",
   "metadata": {},
   "outputs": [],
   "source": [
    "line = alt.Chart(run_data).mark_line(\n",
    "    color = 'red',\n",
    "    size = 3\n",
    ").transform_window(\n",
    "    rolling_mean = 'mean(Average Speed Elevation Adjusted)',\n",
    "    frame = [-7, 7]\n",
    ").encode(\n",
    "    x = 'Activity Date:T',\n",
    "    y = 'rolling_mean:Q'\n",
    ")\n",
    "\n",
    "points = alt.Chart(run_data).mark_point().encode(\n",
    "    x = 'Activity Date:T',\n",
    "    y = alt.Y('Average Speed Elevation Adjusted:Q')).properties(title = '2 week rolling average speed', width = 400, height = 450).interactive()\n",
    "\n",
    "points + line"
   ]
  },
  {
   "cell_type": "markdown",
   "id": "ca0a319b",
   "metadata": {},
   "source": [
    "Here we can see a simple dot plot of our newly created 'Average Speed Elevation Adjusted' field. The results are very interesting. If we look in 2023, I made marginal gains throughout the winter months which would be expected. During these months, I am not running very much as there is typically snow on the ground. I would only be running at very slow paces.\n",
    "\n",
    "Then as the weather warms up and the snow melts around mid Apr, I am getting back outside to prepare for the spring/summer race season. This can be seen with the upward trend of the 2 week rolling GAP from Apr to June. During June, I am typically at my race fitness, and do not need the extra speed sessions. My GAP fluctuates a bit, but remains steady until August. in August I am near the end of the race season and am typically just logging miles and do not worry about a lot of speed work. I also had signed up for a few longer races in the early fall where training more miles and less speed is important which is reflected in the dropoff in GAP beginning in August.\n",
    "\n",
    "What's suprising to me is the steady increase in pace in Apr. I am clearly getting faster throughout those months. There is rarely a single approach to training. Continuing flatter speed work into June and July could very much help me in particular races.\n",
    "\n",
    "These graphs are excellent to view and compare season after season."
   ]
  },
  {
   "cell_type": "markdown",
   "id": "45e0cae7",
   "metadata": {},
   "source": [
    "### Task 1 Conclusion\n",
    "\n",
    "From the above section of graphs there are a few conclusions I can draw:\n",
    "\n",
    "1. My running speed is very seasonal. There are particular months I am running faster than others.\n",
    "\n",
    "2. The GAP model seems fairly accurate in it's measure. It did a good job of considering the elevation change when I'm training.\n",
    "\n",
    "3. My running data has a good amount of outliers where I am climbing much more than average. This might be during a race or a specific day of training."
   ]
  },
  {
   "cell_type": "markdown",
   "id": "0bf39d09",
   "metadata": {},
   "source": [
    "### Final Evaluation Approach"
   ]
  },
  {
   "cell_type": "markdown",
   "id": "cce5e504",
   "metadata": {},
   "source": [
    "In conclusion, I believe my procedure was very well thought out and impactful. My initial ideas on scoping the analysis goals and key visualizations removed a lot of ambiguity from my analysis. Often when I am conducting analysis' like this, I will not have an approach that I have thought through and will start visualizing datapoints without a larger objective in mind. The design study approach we have learned thoughout this class greatly helped me and is a takeaway of mine from this class.\n",
    "\n",
    "I also recruited three co-workers of mine to review my analysis and provide feedback. I believe this was another critical step in the design study process. Although sometimes there are time constraints for these types of analysis in the real world, having different peoples perspective on the analysis is very beneficial to drawing clear insight. I discussed my analysis and results with my three colleagues (who work in data analytics) for 30 minutes. The feedback was overall positive, however, it was clear to me there was some key context missing. None of my colleagues had any experience working with fitness data, and they immediately had questions about the structure and units of the dataset. The 'Data Callout' points were added to the analysis after hearing their questions.\n",
    "\n",
    "Another idea that was brought forward by my colleagues was using supplmental data to layer on perceived exertion and/or heart rate data to enrich the graphs above. I agreed with their response, however, in the end I decided to leave out this data due to its sensitivity. Adding this data would be very interesting as a personal project.\n",
    "\n",
    "Looking back on the analysis, one refinement I would make would be to remove outliers in my data. There were a good deal of outliers in my running data. Removing these outliers would have smoothed out the rolling mean functions I included. There are many additional questions I had while looking through this data such as: does the average temperature impact my speed? Is there a way to graph my overall 'fitness' with this data? "
   ]
  }
 ],
 "metadata": {
  "kernelspec": {
   "display_name": "Python 3",
   "language": "python",
   "name": "python3"
  },
  "language_info": {
   "codemirror_mode": {
    "name": "ipython",
    "version": 3
   },
   "file_extension": ".py",
   "mimetype": "text/x-python",
   "name": "python",
   "nbconvert_exporter": "python",
   "pygments_lexer": "ipython3",
   "version": "3.8.6"
  }
 },
 "nbformat": 4,
 "nbformat_minor": 5
}
